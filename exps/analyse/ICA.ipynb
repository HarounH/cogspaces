{
 "cells": [
  {
   "cell_type": "code",
   "execution_count": 1,
   "metadata": {},
   "outputs": [],
   "source": [
    "from os.path import join, expanduser\n",
    "\n",
    "\n",
    "output_dir = join(expanduser('/home/arthur/output/cogspaces/compare/'))\n",
    "\n",
    "components = join(output_dir, 'components.nii.gz')\n",
    "\n",
    "from nilearn.plotting import plot_surf_stat_map\n",
    "from nilearn.image import index_img\n",
    "import matplotlib.pyplot as plt\n",
    "\n",
    "from nilearn import surface\n",
    "from nilearn import datasets\n",
    "fsaverage = datasets.fetch_surf_fsaverage5()"
   ]
  },
  {
   "cell_type": "code",
   "execution_count": 2,
   "metadata": {},
   "outputs": [],
   "source": [
    "from cogspaces.datasets.utils import fetch_mask, get_output_dir\n",
    "from nilearn.input_data import NiftiMasker\n",
    "\n",
    "mask = fetch_mask()['hcp']\n",
    "masker = NiftiMasker(mask_img=mask).fit()\n",
    "X = masker.transform(components)\n",
    "\n",
    "from sklearn.decomposition import fastica\n",
    "\n",
    "K, W, S = fastica(X.T)\n",
    "\n",
    "img_independant = masker.inverse_transform(S.T)\n",
    "\n",
    "from nilearn.plotting import plot_stat_map\n",
    "\n",
    "from nilearn.plotting import find_xyz_cut_coords\n",
    "\n",
    "\n",
    "i = 40\n",
    "this_img = index_img(img_independant, i)\n",
    "vmax = this_img.get_data().max()\n",
    "\n",
    "cut_coords = find_xyz_cut_coords(this_img, activation_threshold=vmax / 3)\n",
    "plot_stat_map(this_img, threshold=0, cut_coords=cut_coords)\n",
    "\n",
    "fig = plt.figure(figsize=(8, 3))\n",
    "ax1 = fig.add_subplot(121, projection='3d')\n",
    "ax2 = fig.add_subplot(122, projection='3d')\n",
    "\n",
    "texture = surface.vol_to_surf(this_img, fsaverage.pial_left)\n",
    "plot_surf_stat_map(fsaverage.infl_left, texture, hemi='left',\n",
    "                   bg_map=fsaverage.sulc_right, threshold=vmax / 6,\n",
    "                   fig=fig, axes=ax2,\n",
    "                   cmap='cold_hot');\n",
    "texture = surface.vol_to_surf(this_img, fsaverage.pial_right)\n",
    "plot_surf_stat_map(fsaverage.infl_right, texture, hemi='right',\n",
    "                   bg_map=fsaverage.sulc_right, threshold=vmax / 6,\n",
    "                   fig=fig, axes=ax1,\n",
    "                   cmap='cold_hot');"
   ]
  },
  {
   "cell_type": "code",
   "execution_count": null,
   "metadata": {},
   "outputs": [],
   "source": []
  }
 ],
 "metadata": {
  "kernelspec": {
   "display_name": "Python 3",
   "language": "python",
   "name": "python3"
  },
  "language_info": {
   "codemirror_mode": {
    "name": "ipython",
    "version": 3
   },
   "file_extension": ".py",
   "mimetype": "text/x-python",
   "name": "python",
   "nbconvert_exporter": "python",
   "pygments_lexer": "ipython3",
   "version": "3.6.4"
  }
 },
 "nbformat": 4,
 "nbformat_minor": 2
}
